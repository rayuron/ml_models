{
 "cells": [
  {
   "cell_type": "code",
   "execution_count": 1,
   "id": "3c7546a8-3a7a-4868-b0d7-47fcc970ea70",
   "metadata": {},
   "outputs": [],
   "source": [
    "from pathlib import Path\n",
    "import pickle\n",
    "\n",
    "import pandas as pd\n",
    "import lightgbm as lgb"
   ]
  },
  {
   "cell_type": "code",
   "execution_count": 8,
   "id": "3ece656f-419e-41fc-90d3-ddf7273578a5",
   "metadata": {},
   "outputs": [],
   "source": [
    "train_data_dir_path = '../../../../data/train'\n",
    "valid_data_dir_path = '../../../../data/valid'\n",
    "data_file_format = 'csv'\n",
    "target_col = ['target']\n",
    "objective = 'regression' # multiclass\n",
    "num_class = '3'\n",
    "valid_metrics = 'rmse'\n",
    "learning_rate = 0.1\n",
    "model_path = '../../../../models/lgbm_model.pkl'"
   ]
  },
  {
   "cell_type": "code",
   "execution_count": 3,
   "id": "4e1c6afb-312e-4944-9532-b0f994e3a5f2",
   "metadata": {},
   "outputs": [],
   "source": [
    "if data_file_format == \"csv\":\n",
    "  train = pd.concat((pd.read_csv(f) for f in Path(train_data_dir_path).glob('*')))\n",
    "  valid = pd.concat((pd.read_csv(f) for f in Path(valid_data_dir_path).glob('*')))  \n",
    "elif data_file_format == \"parquet\":\n",
    "  train = pd.concat((pd.read_parquet(f) for f in Path(train_data_dir_path).glob('*')))\n",
    "  valid = pd.concat((pd.read_parquet(f) for f in Path(valid_data_dir_path).glob('*')))\n",
    "elif data_file_format == \"pickle\":\n",
    "  train = pd.concat((pd.read_pickle(f) for f in Path(valid_data_dir_path).glob('*')))\n",
    "  valid = pd.concat((pd.read_pickle(f) for f in Path(valid_data_dir_path).glob('*')))\n",
    "else:\n",
    "  pass"
   ]
  },
  {
   "cell_type": "code",
   "execution_count": 4,
   "id": "6084835f-eadd-43e8-8dfa-3c4f2c4b880e",
   "metadata": {},
   "outputs": [],
   "source": [
    "lgb_params = {\n",
    "  'learning_rate': learning_rate,\n",
    "  'max_depth': 2**7-1,\n",
    "  'num_leaves': 7,\n",
    "  'random_state': 42,\n",
    "  'verbose': -1,\n",
    "  'metric': valid_metrics,\n",
    "}"
   ]
  },
  {
   "cell_type": "code",
   "execution_count": 5,
   "id": "fa619f95-42eb-445c-843a-acdc2ee53246",
   "metadata": {},
   "outputs": [],
   "source": [
    "if objective == 'multiclass':\n",
    "  lgb_params['objective'] = objective\n",
    "  lgb_params['num_class'] = num_class\n",
    "else:\n",
    "  lgb_params['objective'] = objective"
   ]
  },
  {
   "cell_type": "code",
   "execution_count": 6,
   "id": "5b194fef-1a98-453a-b957-f88ea388930a",
   "metadata": {
    "scrolled": true,
    "tags": []
   },
   "outputs": [
    {
     "name": "stdout",
     "output_type": "stream",
     "text": [
      "[1]\tvalid_sets's rmse: 77.1747\n",
      "Training until validation scores don't improve for 10 rounds\n",
      "[2]\tvalid_sets's rmse: 74.6466\n",
      "[3]\tvalid_sets's rmse: 72.4541\n",
      "[4]\tvalid_sets's rmse: 70.2764\n",
      "[5]\tvalid_sets's rmse: 68.6881\n",
      "[6]\tvalid_sets's rmse: 66.9426\n",
      "[7]\tvalid_sets's rmse: 65.9844\n",
      "[8]\tvalid_sets's rmse: 64.6813\n",
      "[9]\tvalid_sets's rmse: 63.9509\n",
      "[10]\tvalid_sets's rmse: 63.0619\n",
      "[11]\tvalid_sets's rmse: 62.3278\n",
      "[12]\tvalid_sets's rmse: 61.4772\n",
      "[13]\tvalid_sets's rmse: 61.0636\n",
      "[14]\tvalid_sets's rmse: 60.5712\n",
      "[15]\tvalid_sets's rmse: 60.2013\n",
      "[16]\tvalid_sets's rmse: 59.7931\n",
      "[17]\tvalid_sets's rmse: 59.4848\n",
      "[18]\tvalid_sets's rmse: 58.9464\n",
      "[19]\tvalid_sets's rmse: 58.6449\n",
      "[20]\tvalid_sets's rmse: 58.4734\n",
      "[21]\tvalid_sets's rmse: 58.2566\n",
      "[22]\tvalid_sets's rmse: 57.9422\n",
      "[23]\tvalid_sets's rmse: 57.8268\n",
      "[24]\tvalid_sets's rmse: 57.6773\n",
      "[25]\tvalid_sets's rmse: 57.5531\n",
      "[26]\tvalid_sets's rmse: 57.4001\n",
      "[27]\tvalid_sets's rmse: 57.4385\n",
      "[28]\tvalid_sets's rmse: 57.3422\n",
      "[29]\tvalid_sets's rmse: 57.2701\n",
      "[30]\tvalid_sets's rmse: 57.2814\n",
      "[31]\tvalid_sets's rmse: 57.3455\n",
      "[32]\tvalid_sets's rmse: 57.2894\n",
      "[33]\tvalid_sets's rmse: 57.2841\n",
      "[34]\tvalid_sets's rmse: 57.2505\n",
      "[35]\tvalid_sets's rmse: 57.2446\n",
      "[36]\tvalid_sets's rmse: 57.1608\n",
      "[37]\tvalid_sets's rmse: 57.2949\n",
      "[38]\tvalid_sets's rmse: 57.4237\n",
      "[39]\tvalid_sets's rmse: 57.3994\n",
      "[40]\tvalid_sets's rmse: 57.5043\n",
      "[41]\tvalid_sets's rmse: 57.6414\n",
      "[42]\tvalid_sets's rmse: 57.7044\n",
      "[43]\tvalid_sets's rmse: 57.6026\n",
      "[44]\tvalid_sets's rmse: 57.6139\n",
      "[45]\tvalid_sets's rmse: 57.6037\n",
      "[46]\tvalid_sets's rmse: 57.6622\n",
      "Early stopping, best iteration is:\n",
      "[36]\tvalid_sets's rmse: 57.1608\n"
     ]
    }
   ],
   "source": [
    "model = lgb.train(\n",
    "  params = lgb_params,\n",
    "  train_set = lgb.Dataset(data=train.drop(target_col, axis=1), label=train[target_col]),\n",
    "  valid_names = [\"valid_sets\"],\n",
    "  valid_sets = [lgb.Dataset(data=valid.drop(target_col, axis=1), label=valid[target_col])],\n",
    "  num_boost_round=10000,\n",
    "  callbacks=[\n",
    "    lgb.early_stopping(stopping_rounds=10, verbose=True),\n",
    "    lgb.log_evaluation(1)\n",
    "  ]\n",
    ")"
   ]
  },
  {
   "cell_type": "code",
   "execution_count": 9,
   "id": "76a59e19-6e59-4797-893d-2aea63037987",
   "metadata": {},
   "outputs": [],
   "source": [
    "# Dump the objects\n",
    "Path(model_path).parent.mkdir(\n",
    "    parents=True, exist_ok=True\n",
    ") \n",
    "with open(model_path, 'wb') as f:\n",
    "  pickle.dump(model, f)"
   ]
  },
  {
   "cell_type": "code",
   "execution_count": null,
   "id": "5af72db3",
   "metadata": {},
   "outputs": [],
   "source": []
  }
 ],
 "metadata": {
  "kernelspec": {
   "display_name": "Python 3.8.6 ('.venv': poetry)",
   "language": "python",
   "name": "python3"
  },
  "language_info": {
   "codemirror_mode": {
    "name": "ipython",
    "version": 3
   },
   "file_extension": ".py",
   "mimetype": "text/x-python",
   "name": "python",
   "nbconvert_exporter": "python",
   "pygments_lexer": "ipython3",
   "version": "3.8.6"
  },
  "vscode": {
   "interpreter": {
    "hash": "e3165d8bd5d9bdcbc2f9a8098f491d2c1fe181fd7ba1d4d58ec6cc89b773104f"
   }
  }
 },
 "nbformat": 4,
 "nbformat_minor": 5
}
