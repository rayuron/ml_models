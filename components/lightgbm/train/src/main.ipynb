{
 "cells": [
  {
   "cell_type": "code",
   "execution_count": 1,
   "id": "3c7546a8-3a7a-4868-b0d7-47fcc970ea70",
   "metadata": {},
   "outputs": [],
   "source": [
    "from pathlib import Path\n",
    "import pickle\n",
    "\n",
    "import pandas as pd\n",
    "import lightgbm as lgb"
   ]
  },
  {
   "cell_type": "code",
   "execution_count": 8,
   "id": "3ece656f-419e-41fc-90d3-ddf7273578a5",
   "metadata": {},
   "outputs": [],
   "source": [
    "train_data_dir_path = '../../../../data/train'\n",
    "valid_data_dir_path = '../../../../data/valid'\n",
    "data_file_format = 'csv'\n",
    "target_col = ['target']\n",
    "objective = 'regression' # multiclass\n",
    "num_class = '3'\n",
    "valid_metrics = 'rmse'\n",
    "learning_rate = 0.1\n",
    "model_path = '../../../../models/lgbm_model.pkl'"
   ]
  },
  {
   "cell_type": "code",
   "execution_count": 3,
   "id": "4e1c6afb-312e-4944-9532-b0f994e3a5f2",
   "metadata": {},
   "outputs": [],
   "source": [
    "if data_file_format == \"csv\":\n",
    "  train = pd.concat((pd.read_csv(f) for f in Path(train_data_dir_path).glob('*')))\n",
    "  valid = pd.concat((pd.read_csv(f) for f in Path(valid_data_dir_path).glob('*')))  \n",
    "elif data_file_format == \"parquet\":\n",
    "  train = pd.concat((pd.read_parquet(f) for f in Path(train_data_dir_path).glob('*')))\n",
    "  valid = pd.concat((pd.read_parquet(f) for f in Path(valid_data_dir_path).glob('*')))\n",
    "elif data_file_format == \"pickle\":\n",
    "  train = pd.concat((pd.read_pickle(f) for f in Path(valid_data_dir_path).glob('*')))\n",
    "  valid = pd.concat((pd.read_pickle(f) for f in Path(valid_data_dir_path).glob('*')))\n",
    "else:\n",
    "  pass"
   ]
  },
  {
   "cell_type": "code",
   "execution_count": 4,
   "id": "6084835f-eadd-43e8-8dfa-3c4f2c4b880e",
   "metadata": {},
   "outputs": [],
   "source": [
    "lgb_params = {\n",
    "  'learning_rate': learning_rate,\n",
    "  'max_depth': 2**7-1,\n",
    "  'num_leaves': 7,\n",
    "  'random_state': 42,\n",
    "  'verbose': -1,\n",
    "  'metric': valid_metrics,\n",
    "}"
   ]
  },
  {
   "cell_type": "code",
   "execution_count": 5,
   "id": "fa619f95-42eb-445c-843a-acdc2ee53246",
   "metadata": {},
   "outputs": [],
   "source": [
    "if objective == 'multiclass':\n",
    "  lgb_params['objective'] = objective\n",
    "  lgb_params['num_class'] = num_class\n",
    "else:\n",
    "  lgb_params['objective'] = objective"
   ]
  },
  {
   "cell_type": "code",
   "execution_count": null,
   "id": "5b194fef-1a98-453a-b957-f88ea388930a",
   "metadata": {
    "scrolled": true,
    "tags": []
   },
   "outputs": [
    {
     "ename": "",
     "evalue": "",
     "output_type": "error",
     "traceback": [
      "\u001b[1;31mRunning cells with 'Python 3.8.9 64-bit' requires ipykernel package.\n",
      "Run the following command to install 'ipykernel' into the Python environment. \n",
      "Command: '/usr/bin/python3 -m pip install ipykernel -U --user --force-reinstall'"
     ]
    }
   ],
   "source": [
    "model = lgb.train(\n",
    "  params = lgb_params,\n",
    "  train_set = lgb.Dataset(data=train.drop(target_col, axis=1), label=train[target_col]),\n",
    "  valid_names = [\"train\",\"valid\"],\n",
    "  valid_sets = [lgb.Dataset(data=valid.drop(target_col, axis=1), label=valid[target_col])],\n",
    "  num_boost_round=10000,\n",
    "  callbacks=[\n",
    "    lgb.early_stopping(stopping_rounds=10, verbose=True),\n",
    "    lgb.log_evaluation(1)\n",
    "  ]\n",
    ")"
   ]
  },
  {
   "cell_type": "code",
   "execution_count": 9,
   "id": "76a59e19-6e59-4797-893d-2aea63037987",
   "metadata": {},
   "outputs": [],
   "source": [
    "# Dump the objects\n",
    "Path(model_path).parent.mkdir(\n",
    "    parents=True, exist_ok=True\n",
    ") \n",
    "with open(model_path, 'wb') as f:\n",
    "  pickle.dump(model, f)"
   ]
  },
  {
   "cell_type": "code",
   "execution_count": null,
   "id": "5af72db3",
   "metadata": {},
   "outputs": [],
   "source": []
  }
 ],
 "metadata": {
  "kernelspec": {
   "display_name": "Python 3.8.6 ('.venv': poetry)",
   "language": "python",
   "name": "python3"
  },
  "language_info": {
   "codemirror_mode": {
    "name": "ipython",
    "version": 3
   },
   "file_extension": ".py",
   "mimetype": "text/x-python",
   "name": "python",
   "nbconvert_exporter": "python",
   "pygments_lexer": "ipython3",
   "version": "3.8.6"
  },
  "vscode": {
   "interpreter": {
    "hash": "18bd45d23826b831633f1bcda97f1355308c96f8e4172c00d04340bdac77f2f0"
   }
  }
 },
 "nbformat": 4,
 "nbformat_minor": 5
}
