{
 "cells": [
  {
   "cell_type": "code",
   "execution_count": 2,
   "id": "3c7546a8-3a7a-4868-b0d7-47fcc970ea70",
   "metadata": {},
   "outputs": [],
   "source": [
    "from pathlib import Path\n",
    "import pickle\n",
    "\n",
    "import pandas as pd\n",
    "import lightgbm as lgb"
   ]
  },
  {
   "cell_type": "code",
   "execution_count": 3,
   "id": "3ece656f-419e-41fc-90d3-ddf7273578a5",
   "metadata": {},
   "outputs": [],
   "source": [
    "model_path = '../../../../models/lgbm_model.pkl'\n",
    "\n",
    "valid_data_dir_path = '../../../../data/valid'\n",
    "data_file_format = 'csv'\n",
    "target_col = ['target']\n",
    "objective = 'regression' # multiclass\n",
    "num_class = '3'\n",
    "valid_metrics = 'rmse'\n",
    "learning_rate = 0.1\n",
    "model_path = '../models/model.pkl'"
   ]
  },
  {
   "cell_type": "code",
   "execution_count": 20,
   "id": "76a59e19-6e59-4797-893d-2aea63037987",
   "metadata": {},
   "outputs": [],
   "source": [
    "# Dump the objects\n",
    "Path(model_path).parent.mkdir(\n",
    "    parents=True, exist_ok=True\n",
    ") \n",
    "with open(model_path, 'wb') as f:\n",
    "  pickle.dump(model, f)"
   ]
  }
 ],
 "metadata": {
  "kernelspec": {
   "display_name": "Python 3.8.6 ('.venv': poetry)",
   "language": "python",
   "name": "python3"
  },
  "language_info": {
   "codemirror_mode": {
    "name": "ipython",
    "version": 3
   },
   "file_extension": ".py",
   "mimetype": "text/x-python",
   "name": "python",
   "nbconvert_exporter": "python",
   "pygments_lexer": "ipython3",
   "version": "3.8.6"
  },
  "vscode": {
   "interpreter": {
    "hash": "b1135c72a213daa256370e804d7d8155107db5997ce42c199c34a17219dba3e9"
   }
  }
 },
 "nbformat": 4,
 "nbformat_minor": 5
}
