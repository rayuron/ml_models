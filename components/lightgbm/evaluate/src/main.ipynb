{
 "cells": [
  {
   "cell_type": "code",
   "execution_count": 102,
   "id": "3c7546a8-3a7a-4868-b0d7-47fcc970ea70",
   "metadata": {},
   "outputs": [],
   "source": [
    "from pathlib import Path\n",
    "import pickle\n",
    "\n",
    "import pandas as pd\n",
    "import numpy as np\n",
    "import lightgbm as lgb"
   ]
  },
  {
   "cell_type": "code",
   "execution_count": 40,
   "id": "3ece656f-419e-41fc-90d3-ddf7273578a5",
   "metadata": {},
   "outputs": [],
   "source": [
    "models_dir_path = '../../../../models/'\n",
    "model_metadata_path = '../../../../model_matadata/model_metadata.pkl'"
   ]
  },
  {
   "cell_type": "code",
   "execution_count": 41,
   "id": "f42f9196",
   "metadata": {},
   "outputs": [],
   "source": [
    "def load_model(model_path):\n",
    "    with open(model_path, \"rb\") as f:\n",
    "        model = pickle.load(f)\n",
    "    return model"
   ]
  },
  {
   "cell_type": "code",
   "execution_count": 42,
   "id": "a75aee53",
   "metadata": {},
   "outputs": [],
   "source": [
    "models = [load_model(path) for path in Path(models_dir_path).glob(\"*\")]"
   ]
  },
  {
   "cell_type": "code",
   "execution_count": 153,
   "id": "e61a74ac",
   "metadata": {},
   "outputs": [],
   "source": [
    "model_metadata = {'train_metrics': {key: 0} for key in model.best_score['train_sets'].keys()}\n",
    "model_metadata = {'valid_metrics': {key: 0} for key in model.best_score['valid_sets'].keys()}\n",
    "model_metadata['feature_name'] = models[0].feature_name()\n",
    "model_metadata['feature_importance'] = np.array([])\n",
    "\n",
    "for model in models:\n",
    "    for key, value in model.best_score['train_sets'].items():\n",
    "        model_metadata['train_metrics'][key] += value\n",
    "        \n",
    "    for key, value in model.best_score['valid_sets'].items():\n",
    "        model_metadata['valid_metrics'][key] += value\n",
    "\n",
    "    model_metadata['feature_importance'] = np.append(model_metadata['feature_importance'], model.feature_importance())\n",
    "\n",
    "for key in model_metadata['valid_metrics']:\n",
    "    model_metadata['valid_metrics'][key] = model_metadata['valid_metrics'][key]/len(models)\n",
    "model_metadata['feature_importance'].reshape(-1, len(models[0].feature_name()))\n",
    "model_metadata['feature_importance'] = np.mean(model_metadata['feature_importance'], axis=0)"
   ]
  },
  {
   "cell_type": "code",
   "execution_count": 154,
   "id": "9a54172b",
   "metadata": {},
   "outputs": [
    {
     "data": {
      "text/plain": [
       "{'valid_metrics': {'rmse': 57.160757333894935},\n",
       " 'feature_name': ['age',\n",
       "  'sex',\n",
       "  'bmi',\n",
       "  'bp',\n",
       "  's1',\n",
       "  's2',\n",
       "  's3',\n",
       "  's4',\n",
       "  's5',\n",
       "  's6'],\n",
       " 'feature_importance': 21.6}"
      ]
     },
     "execution_count": 154,
     "metadata": {},
     "output_type": "execute_result"
    }
   ],
   "source": [
    "model_metadata"
   ]
  },
  {
   "cell_type": "code",
   "execution_count": 20,
   "id": "76a59e19-6e59-4797-893d-2aea63037987",
   "metadata": {},
   "outputs": [],
   "source": [
    "# Dump the objects\n",
    "Path(model_metadata_path).parent.mkdir(\n",
    "    parents=True, exist_ok=True\n",
    ") \n",
    "with open(model_metadata_path, 'wb') as f:\n",
    "  pickle.dump(model_metadata, f)"
   ]
  }
 ],
 "metadata": {
  "kernelspec": {
   "display_name": "Python 3.8.6 ('.venv': poetry)",
   "language": "python",
   "name": "python3"
  },
  "language_info": {
   "codemirror_mode": {
    "name": "ipython",
    "version": 3
   },
   "file_extension": ".py",
   "mimetype": "text/x-python",
   "name": "python",
   "nbconvert_exporter": "python",
   "pygments_lexer": "ipython3",
   "version": "3.8.6"
  },
  "vscode": {
   "interpreter": {
    "hash": "b1135c72a213daa256370e804d7d8155107db5997ce42c199c34a17219dba3e9"
   }
  }
 },
 "nbformat": 4,
 "nbformat_minor": 5
}
